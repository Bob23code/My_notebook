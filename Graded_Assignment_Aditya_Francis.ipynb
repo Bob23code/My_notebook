{
 "cells": [
  {
   "cell_type": "markdown",
   "id": "54debdf4",
   "metadata": {},
   "source": [
    "# Data Science Ecosystem"
   ]
  },
  {
   "cell_type": "markdown",
   "id": "a1342dad",
   "metadata": {},
   "source": [
    "In this notebook, Data Science Tools and Ecosystem are summarized."
   ]
  },
  {
   "cell_type": "markdown",
   "id": "a8db04cc",
   "metadata": {},
   "source": [
    "## Objectives:\n",
    "\n",
    ". List popular languages used in Data science\n",
    ". Some Commonly used libraries used Data Scientists\n",
    ". Making markdown tables\n",
    ". Computing basic arithematic equations"
   ]
  },
  {
   "cell_type": "markdown",
   "id": "9f7bff74",
   "metadata": {},
   "source": [
    "Some of the popular languages that Data Scientists use are:\n",
    "\n",
    "1. Python.\n",
    "2. R.\n",
    "3. SQL.\n",
    "4. Java.\n",
    "5. Julia.\n",
    "6. Scala.\n",
    "7. C/C++.\n",
    "8. JavaScript."
   ]
  },
  {
   "cell_type": "markdown",
   "id": "8fa0f942",
   "metadata": {},
   "source": [
    "Some of the commonly used libraries used by Data Scientists include:\n",
    "\n",
    "1. TensorFlow.\n",
    "2. NumPy.\n",
    "3. SciPy.\n",
    "4. Pandas.\n",
    "5. Matplotlib.\n",
    "6. Keras.\n",
    "7. SciKit-Learn.\n",
    "8. PyTorch.\n",
    "9. Scrapy.\n",
    "10. BeautifulSoup.\n",
    "11. LightGBM.\n",
    "12. ELI5.\n",
    "13. Theano.\n",
    "14. NuPIC.\n",
    "15. Ramp.\n",
    "16. Pipenv.\n",
    "17. Bob.\n",
    "18. PyBrain.\n",
    "19. Caffe2.\n",
    "20. Chainer."
   ]
  },
  {
   "cell_type": "markdown",
   "id": "3de591a4",
   "metadata": {},
   "source": [
    "| Data Science Tools |\n",
    "| :------------------: |\n",
    "| SAS |\n",
    "| Apache Spark |\n",
    "| BigML |\n"
   ]
  },
  {
   "cell_type": "markdown",
   "id": "3743a7a4",
   "metadata": {},
   "source": [
    "### Below are a few examples of evaluating arithmetic expressions in Python."
   ]
  },
  {
   "cell_type": "code",
   "execution_count": 5,
   "id": "41f1316a",
   "metadata": {},
   "outputs": [
    {
     "data": {
      "text/plain": [
       "17"
      ]
     },
     "execution_count": 5,
     "metadata": {},
     "output_type": "execute_result"
    }
   ],
   "source": [
    "# his a simple arithmetic expression to mutiply then add integers\n",
    "(3*4)+5"
   ]
  },
  {
   "cell_type": "code",
   "execution_count": 6,
   "id": "86f8d816",
   "metadata": {},
   "outputs": [
    {
     "name": "stdout",
     "output_type": "stream",
     "text": [
      "0 days, 3.3333333333333335 hours, 0 mins. \n"
     ]
    }
   ],
   "source": [
    "# his will convert 200 minutes to hours by diving by 60\n",
    "days = 0\n",
    "hours = 0\n",
    "mins = 0\n",
    "\n",
    "time = 200\n",
    "#days = time / 1440\n",
    "leftover_minutes = time % 1440\n",
    "hours = leftover_minutes / 60\n",
    "#mins = time - (days*1440) - (hours*60)\n",
    "print(str(days) + \" days, \" + str(hours) + \" hours, \" + str(mins) +  \" mins. \")\n",
    "\n",
    "# Result: 3.3333333333333335 hours"
   ]
  },
  {
   "cell_type": "markdown",
   "id": "6ce423f1",
   "metadata": {},
   "source": [
    "## Author \n",
    "Aditya Francis"
   ]
  },
  {
   "cell_type": "code",
   "execution_count": null,
   "id": "1eba7609",
   "metadata": {},
   "outputs": [],
   "source": []
  }
 ],
 "metadata": {
  "kernelspec": {
   "display_name": "Python 3 (ipykernel)",
   "language": "python",
   "name": "python3"
  },
  "language_info": {
   "codemirror_mode": {
    "name": "ipython",
    "version": 3
   },
   "file_extension": ".py",
   "mimetype": "text/x-python",
   "name": "python",
   "nbconvert_exporter": "python",
   "pygments_lexer": "ipython3",
   "version": "3.8.2"
  }
 },
 "nbformat": 4,
 "nbformat_minor": 5
}
